{
 "cells": [
  {
   "cell_type": "code",
   "execution_count": 29,
   "metadata": {},
   "outputs": [],
   "source": [
    "import random\n",
    "import time\n",
    "from collections.abc import Callable\n",
    "\n",
    "random.seed(69420)"
   ]
  },
  {
   "cell_type": "code",
   "execution_count": 40,
   "metadata": {},
   "outputs": [
    {
     "data": {
      "text/plain": [
       "[6, 3, 10, 4, 7, 8, 1, 2, 5, 9]"
      ]
     },
     "execution_count": 40,
     "metadata": {},
     "output_type": "execute_result"
    }
   ],
   "source": [
    "import random\n",
    "\n",
    "\n",
    "def create_unordered_array(n: int) -> list[int]:\n",
    "    \"\"\" Create a shuffled array from 1 to n (inclusive).\n",
    "\n",
    "    Args:\n",
    "        n: number of elements.\n",
    "\n",
    "    Returns:\n",
    "        array: Unordered array of unique elements.\n",
    "    \"\"\"\n",
    "    array = list(range(1, n+1))\n",
    "    random.shuffle(array)\n",
    "    return array\n",
    "\n",
    "original_array = create_unordered_array(10)\n",
    "original_array"
   ]
  },
  {
   "cell_type": "code",
   "execution_count": 41,
   "metadata": {},
   "outputs": [
    {
     "data": {
      "text/plain": [
       "[6, 3, 10, 4, 8, 1, 2, 5, 9]"
      ]
     },
     "execution_count": 41,
     "metadata": {},
     "output_type": "execute_result"
    }
   ],
   "source": [
    "def remove_element(original_array: list[int], index: int) -> list[int]:\n",
    "    \"\"\" Return new with an element removed at a given index.\n",
    "\n",
    "    Args:\n",
    "        array: Unordered array of unique elements.\n",
    "        index: Index of elements to remove (starts at 0).\n",
    "\n",
    "    Returns:\n",
    "        new_array: New array with element at the given index removed.\n",
    "    \"\"\"\n",
    "    reduced_array = original_array.copy()\n",
    "    reduced_array.pop(index)\n",
    "    return reduced_array\n",
    "\n",
    "remove_index = 4\n",
    "reduced_array = remove_element(original_array, remove_index)\n",
    "reduced_array"
   ]
  },
  {
   "cell_type": "code",
   "execution_count": 42,
   "metadata": {},
   "outputs": [
    {
     "data": {
      "text/plain": [
       "7"
      ]
     },
     "execution_count": 42,
     "metadata": {},
     "output_type": "execute_result"
    }
   ],
   "source": [
    "def find_missing_by_iterating(original_array: list[int], reduced_array: list[int]) -> int:\n",
    "    \"\"\" Find the missing value by comparing element by element and seeing where there is a mismatch.\n",
    "\n",
    "    Args:\n",
    "        original_array: Unordered array of unique elements.\n",
    "        reduced_array: Original array but with one element missing.\n",
    "\n",
    "    Returns:\n",
    "        int: The value of the missing element.\n",
    "    \"\"\"\n",
    "    n = len(reduced_array)\n",
    "    \n",
    "    for i in range(n):\n",
    "        if original_array[i] != reduced_array[i]:\n",
    "            return original_array[i]\n",
    "\n",
    "    return original_array[-1]\n",
    "\n",
    "\n",
    "find_missing_by_iterating(original_array, reduced_array)"
   ]
  },
  {
   "cell_type": "code",
   "execution_count": 43,
   "metadata": {},
   "outputs": [
    {
     "data": {
      "text/plain": [
       "7"
      ]
     },
     "execution_count": 43,
     "metadata": {},
     "output_type": "execute_result"
    }
   ],
   "source": [
    "def find_missing_by_summing(original_array: list[int], reduced_array: list[int]) -> int:\n",
    "    \"\"\" Find the missing value by summing both arrays and returning the difference.\n",
    "\n",
    "    Args:\n",
    "        original_array: Unordered array of unique elements.\n",
    "        reduced_array: Original array but with one element missing.\n",
    "\n",
    "    Returns:\n",
    "        int: The value of the missing element.\n",
    "    \"\"\"\n",
    "    return sum(original_array) - sum(reduced_array)\n",
    "\n",
    "\n",
    "find_missing_by_iterating(original_array, reduced_array)"
   ]
  },
  {
   "cell_type": "code",
   "execution_count": 59,
   "metadata": {},
   "outputs": [
    {
     "data": {
      "text/plain": [
       "0.0"
      ]
     },
     "execution_count": 59,
     "metadata": {},
     "output_type": "execute_result"
    }
   ],
   "source": [
    "\n",
    "def benchmark_problem(original_array: list[int], reduced_array: list[int], find_strategy: Callable[[list[int],  list[int]], int]) -> float:\n",
    "    \"\"\" Given the missing value by using a given Find strategy and return the duration.\n",
    "\n",
    "    Args:\n",
    "        original_array: Unordered array of unique elements.\n",
    "        reduced_array: Original array but with one element missing.\n",
    "        n: number of elements.\n",
    "        find_strategy: Method used to find the missing value.\n",
    "\n",
    "    Returns:\n",
    "        float: The duration of the find strategy in seconds.\n",
    "    \"\"\"\n",
    "    time_start = time.time()\n",
    "    find_strategy(original_array, reduced_array)\n",
    "    time_end = time.time()\n",
    "    return (time_end - time_start)\n",
    "\n",
    "\n",
    "benchmark_problem(original_array, reduced_array, find_missing_by_summing)"
   ]
  },
  {
   "cell_type": "code",
   "execution_count": 63,
   "metadata": {},
   "outputs": [
    {
     "name": "stdout",
     "output_type": "stream",
     "text": [
      "n = 1000\n",
      "find_missing_by_iterating: 0.0000s\n",
      "find_missing_by_summing: 0.0000s\n",
      "\n",
      "n = 10000\n",
      "find_missing_by_iterating: 0.0005s\n",
      "find_missing_by_summing: 0.0000s\n",
      "\n",
      "n = 100000\n",
      "find_missing_by_iterating: 0.0145s\n",
      "find_missing_by_summing: 0.0095s\n",
      "\n",
      "n = 1000000\n",
      "find_missing_by_iterating: 0.1275s\n",
      "find_missing_by_summing: 0.2110s\n",
      "\n",
      "n = 10000000\n",
      "find_missing_by_iterating: 1.6515s\n",
      "find_missing_by_summing: 2.6525s\n",
      "\n"
     ]
    }
   ],
   "source": [
    "def setup_and_benchmark(n: int) -> None:\n",
    "    index = n-1\n",
    "\n",
    "    original_array = create_unordered_array(n)\n",
    "    reduced_array = remove_element(original_array, index)\n",
    "    duration_iter = benchmark_problem(original_array, reduced_array, find_missing_by_iterating)\n",
    "    duration_sum = benchmark_problem(original_array, reduced_array, find_missing_by_summing)\n",
    "    return duration_iter, duration_sum\n",
    "\n",
    "\n",
    "\n",
    "for n_large in [1000, 10000, 100000, 1000000, 10000000]:\n",
    "    duration_iter, duration_large = setup_and_benchmark(n_large)\n",
    "    print(f\"n = {n_large}\")\n",
    "    print(f\"find_missing_by_iterating: {duration_iter:.4f}s\")\n",
    "    print(f\"find_missing_by_summing: {duration_large:.4f}s\")\n",
    "    print()"
   ]
  },
  {
   "cell_type": "code",
   "execution_count": null,
   "metadata": {},
   "outputs": [],
   "source": []
  }
 ],
 "metadata": {
  "kernelspec": {
   "display_name": "Python 3",
   "language": "python",
   "name": "python3"
  },
  "language_info": {
   "codemirror_mode": {
    "name": "ipython",
    "version": 3
   },
   "file_extension": ".py",
   "mimetype": "text/x-python",
   "name": "python",
   "nbconvert_exporter": "python",
   "pygments_lexer": "ipython3",
   "version": "3.11.3"
  }
 },
 "nbformat": 4,
 "nbformat_minor": 2
}
